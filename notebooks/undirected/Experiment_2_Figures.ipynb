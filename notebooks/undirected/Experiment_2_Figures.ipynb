{
 "cells": [
  {
   "cell_type": "code",
   "execution_count": 1,
   "metadata": {},
   "outputs": [],
   "source": [
    "%load_ext autoreload\n",
    "%autoreload 2\n",
    "\n",
    "import logging\n",
    "\n",
    "logging.basicConfig(level=logging.WARNING)\n",
    "logging.getLogger('anonymigraph').setLevel(logging.WARNING)\n",
    "logging.getLogger('anonymigraph.metrics').setLevel(logging.WARNING)\n"
   ]
  },
  {
   "cell_type": "code",
   "execution_count": 2,
   "metadata": {},
   "outputs": [],
   "source": [
    "from anonymigraph.metrics.evaluator import Evaluator\n",
    "from anonymigraph.metrics.utility.structural.privacy_metrics import PercentageKDegreeAnonMetric\n",
    "\n",
    "from anonymigraph.metrics.utility.structural import (\n",
    "    DegreeCentralityMetric,\n",
    "    EigenvectorMetric,\n",
    "    PageRankMetric,\n",
    "    ClosenessCentralityMetric,\n",
    "    LocalClusteringCoefficientMetric,\n",
    "    WLColorMetric,\n",
    "\n",
    "    ConnectedComponentsMetric,\n",
    "    NumberOfEdgesMetric,\n",
    "    NumberOfNodesMetric,\n",
    "    NumberOfTrianglesMetric,\n",
    "    MeanDegreeMetric,\n",
    "    MaxDegreeMetric,\n",
    "    MedianDegreeMetric,\n",
    "    AverageClusteringCoefficientMetric,\n",
    "    TransitivityMetric,\n",
    "\n",
    "    EdgeJaccardMetric,\n",
    "    KatzCentralityMetric,\n",
    "\n",
    ")\n",
    "\n",
    "from anonymigraph.anonymization import (\n",
    "    KDegreeAnonymizer,\n",
    "    RandomEdgeAddDelAnonymizer,\n",
    "    ConfigurationModelAnonymizer,\n",
    "    NestModelAnonymizer,\n",
    "    PygmalionModelAnonymizer,\n",
    "    PrivateColorAnonymizer,\n",
    ")\n"
   ]
  },
  {
   "cell_type": "markdown",
   "metadata": {},
   "source": [
    "# Polbooks"
   ]
  },
  {
   "cell_type": "code",
   "execution_count": 3,
   "metadata": {},
   "outputs": [
    {
     "name": "stdout",
     "output_type": "stream",
     "text": [
      "Graph with 105 nodes and 441 edges\n",
      "Alpha: 0.04190189608200814\n"
     ]
    }
   ],
   "source": [
    "import networkx as nx\n",
    "from scipy.sparse.linalg import eigs\n",
    "import numpy as np\n",
    "import os\n",
    "import urllib.request\n",
    "import pickle\n",
    "\n",
    "if not os.path.exists('polbooks.gml'):\n",
    "    urllib.request.urlretrieve('https://networkdata.ics.uci.edu/data/polbooks/polbooks.gml', 'polbooks.gml')\n",
    "\n",
    "G = nx.read_gml('polbooks.gml')\n",
    "G = nx.convert_node_labels_to_integers(G)\n",
    "\n",
    "eigenvalues, _ = eigs(nx.adjacency_matrix(G).astype(np.float64), k=1, which='LM')\n",
    "max_alpha = 1 / np.abs(eigenvalues).max()\n",
    "\n",
    "alpha=0.5*max_alpha\n",
    "beta=1\n",
    "print(G)\n",
    "print(\"Alpha:\", alpha)"
   ]
  },
  {
   "cell_type": "code",
   "execution_count": 4,
   "metadata": {},
   "outputs": [
    {
     "name": "stdout",
     "output_type": "stream",
     "text": [
      "Anonymizing with method Eager 10^{-0}\n"
     ]
    },
    {
     "name": "stderr",
     "output_type": "stream",
     "text": [
      "CRITICAL:anonymigraph.anonymization.method_private_colors:Equiv. class: Mean Prob. Guess: 0.5333333333333333 Mean Prob. Guess No 1s: 0.28985507246376807 Median: 2.0, Mean: 3.2666666666666666, Nodes with Unique Color Neighbourhood: 36, Number of Nodes: 105, Unique Colors: 2\n"
     ]
    },
    {
     "name": "stdout",
     "output_type": "stream",
     "text": [
      "Evaluating method Eager 10^{-0}\n",
      "Anonymizing with method Eager 10^{-1}\n"
     ]
    },
    {
     "name": "stderr",
     "output_type": "stream",
     "text": [
      "CRITICAL:anonymigraph.anonymization.method_private_colors:Equiv. class: Mean Prob. Guess: 0.9238095238095239 Mean Prob. Guess No 1s: 0.5 Median: 1.0, Mean: 1.1523809523809523, Nodes with Unique Color Neighbourhood: 89, Number of Nodes: 105, Unique Colors: 4\n"
     ]
    },
    {
     "name": "stdout",
     "output_type": "stream",
     "text": [
      "Evaluating method Eager 10^{-1}\n",
      "Anonymizing with method Eager 10^{-2}\n"
     ]
    },
    {
     "name": "stderr",
     "output_type": "stream",
     "text": [
      "CRITICAL:anonymigraph.anonymization.method_private_colors:Equiv. class: Mean Prob. Guess: 0.9809523809523809 Mean Prob. Guess No 1s: 0.5 Median: 1.0, Mean: 1.0380952380952382, Nodes with Unique Color Neighbourhood: 101, Number of Nodes: 105, Unique Colors: 8\n"
     ]
    },
    {
     "name": "stdout",
     "output_type": "stream",
     "text": [
      "Evaluating method Eager 10^{-2}\n",
      "Anonymizing with method Eager 5 10^{-3}\n"
     ]
    },
    {
     "name": "stderr",
     "output_type": "stream",
     "text": [
      "CRITICAL:anonymigraph.anonymization.method_private_colors:Equiv. class: Mean Prob. Guess: 0.9809523809523809 Mean Prob. Guess No 1s: 0.5 Median: 1.0, Mean: 1.0380952380952382, Nodes with Unique Color Neighbourhood: 101, Number of Nodes: 105, Unique Colors: 9\n"
     ]
    },
    {
     "name": "stdout",
     "output_type": "stream",
     "text": [
      "Evaluating method Eager 5 10^{-3}\n",
      "Anonymizing with method Eager 10^{-3}\n"
     ]
    },
    {
     "name": "stderr",
     "output_type": "stream",
     "text": [
      "c:\\Users\\jmeis\\Desktop\\Data\\Professional\\master\\anonymi2\\venv\\Lib\\site-packages\\numpy\\_core\\fromnumeric.py:3904: RuntimeWarning: Mean of empty slice.\n",
      "  return _methods._mean(a, axis=axis, dtype=dtype,\n",
      "c:\\Users\\jmeis\\Desktop\\Data\\Professional\\master\\anonymi2\\venv\\Lib\\site-packages\\numpy\\_core\\_methods.py:147: RuntimeWarning: invalid value encountered in scalar divide\n",
      "  ret = ret.dtype.type(ret / rcount)\n",
      "CRITICAL:anonymigraph.anonymization.method_private_colors:Equiv. class: Mean Prob. Guess: 1.0 Mean Prob. Guess No 1s: nan Median: 1.0, Mean: 1.0, Nodes with Unique Color Neighbourhood: 105, Number of Nodes: 105, Unique Colors: 15\n"
     ]
    },
    {
     "name": "stdout",
     "output_type": "stream",
     "text": [
      "Evaluating method Eager 10^{-3}\n",
      "Anonymizing with method Eager 7.5 10^{-4}\n"
     ]
    },
    {
     "name": "stderr",
     "output_type": "stream",
     "text": [
      "CRITICAL:anonymigraph.anonymization.method_private_colors:Equiv. class: Mean Prob. Guess: 1.0 Mean Prob. Guess No 1s: nan Median: 1.0, Mean: 1.0, Nodes with Unique Color Neighbourhood: 105, Number of Nodes: 105, Unique Colors: 17\n"
     ]
    },
    {
     "name": "stdout",
     "output_type": "stream",
     "text": [
      "Evaluating method Eager 7.5 10^{-4}\n",
      "Anonymizing with method Eager 5 10^{-4}\n"
     ]
    },
    {
     "name": "stderr",
     "output_type": "stream",
     "text": [
      "CRITICAL:anonymigraph.anonymization.method_private_colors:Equiv. class: Mean Prob. Guess: 1.0 Mean Prob. Guess No 1s: nan Median: 1.0, Mean: 1.0, Nodes with Unique Color Neighbourhood: 105, Number of Nodes: 105, Unique Colors: 21\n"
     ]
    },
    {
     "name": "stdout",
     "output_type": "stream",
     "text": [
      "Evaluating method Eager 5 10^{-4}\n",
      "Anonymizing with method Eager 4 10^{-4}\n"
     ]
    },
    {
     "name": "stderr",
     "output_type": "stream",
     "text": [
      "CRITICAL:anonymigraph.anonymization.method_private_colors:Equiv. class: Mean Prob. Guess: 1.0 Mean Prob. Guess No 1s: nan Median: 1.0, Mean: 1.0, Nodes with Unique Color Neighbourhood: 105, Number of Nodes: 105, Unique Colors: 24\n"
     ]
    },
    {
     "name": "stdout",
     "output_type": "stream",
     "text": [
      "Evaluating method Eager 4 10^{-4}\n",
      "Anonymizing with method Eager 2.5 10^{-4}\n"
     ]
    },
    {
     "name": "stderr",
     "output_type": "stream",
     "text": [
      "CRITICAL:anonymigraph.anonymization.method_private_colors:Equiv. class: Mean Prob. Guess: 1.0 Mean Prob. Guess No 1s: nan Median: 1.0, Mean: 1.0, Nodes with Unique Color Neighbourhood: 105, Number of Nodes: 105, Unique Colors: 32\n"
     ]
    },
    {
     "name": "stdout",
     "output_type": "stream",
     "text": [
      "Evaluating method Eager 2.5 10^{-4}\n",
      "Anonymizing with method Eager 10^{-4}\n"
     ]
    },
    {
     "name": "stderr",
     "output_type": "stream",
     "text": [
      "CRITICAL:anonymigraph.anonymization.method_private_colors:Equiv. class: Mean Prob. Guess: 1.0 Mean Prob. Guess No 1s: nan Median: 1.0, Mean: 1.0, Nodes with Unique Color Neighbourhood: 105, Number of Nodes: 105, Unique Colors: 46\n"
     ]
    },
    {
     "name": "stdout",
     "output_type": "stream",
     "text": [
      "Evaluating method Eager 10^{-4}\n",
      "Anonymizing with method Eager 5 10^{-5}\n"
     ]
    },
    {
     "name": "stderr",
     "output_type": "stream",
     "text": [
      "CRITICAL:anonymigraph.anonymization.method_private_colors:Equiv. class: Mean Prob. Guess: 1.0 Mean Prob. Guess No 1s: nan Median: 1.0, Mean: 1.0, Nodes with Unique Color Neighbourhood: 105, Number of Nodes: 105, Unique Colors: 60\n"
     ]
    },
    {
     "name": "stdout",
     "output_type": "stream",
     "text": [
      "Evaluating method Eager 5 10^{-5}\n",
      "Anonymizing with method Eager 4 10^{-5}\n"
     ]
    },
    {
     "name": "stderr",
     "output_type": "stream",
     "text": [
      "CRITICAL:anonymigraph.anonymization.method_private_colors:Equiv. class: Mean Prob. Guess: 1.0 Mean Prob. Guess No 1s: nan Median: 1.0, Mean: 1.0, Nodes with Unique Color Neighbourhood: 105, Number of Nodes: 105, Unique Colors: 93\n"
     ]
    },
    {
     "name": "stdout",
     "output_type": "stream",
     "text": [
      "Evaluating method Eager 4 10^{-5}\n",
      "Anonymizing with method 80 Edge Add/Del\n",
      "Evaluating method 80 Edge Add/Del\n",
      "Anonymizing with method 64 Edge Add/Del\n",
      "Evaluating method 64 Edge Add/Del\n",
      "Anonymizing with method 48 Edge Add/Del\n",
      "Evaluating method 48 Edge Add/Del\n",
      "Anonymizing with method 32 Edge Add/Del\n",
      "Evaluating method 32 Edge Add/Del\n",
      "Anonymizing with method 24 Edge Add/Del\n",
      "Evaluating method 24 Edge Add/Del\n",
      "Anonymizing with method 16 Edge Add/Del\n",
      "Evaluating method 16 Edge Add/Del\n",
      "Anonymizing with method 12 Edge Add/Del\n",
      "Evaluating method 12 Edge Add/Del\n",
      "Anonymizing with method 8 Edge Add/Del\n",
      "Evaluating method 8 Edge Add/Del\n",
      "Anonymizing with method 4 Edge Add/Del\n",
      "Evaluating method 4 Edge Add/Del\n",
      "Anonymizing with method 2 Edge Add/Del\n",
      "Evaluating method 2 Edge Add/Del\n",
      "Anonymizing with method 1 Edge Add/Del\n",
      "Evaluating method 1 Edge Add/Del\n",
      "Anonymizing with method 0.5 Edge Add/Del\n",
      "Evaluating method 0.5 Edge Add/Del\n",
      "Anonymizing with method 64 Degree Anonymity\n",
      "Evaluating method 64 Degree Anonymity\n",
      "Anonymizing with method 48-Degree Anonymity\n",
      "Evaluating method 48-Degree Anonymity\n",
      "Anonymizing with method 32 Degree Anonymity\n",
      "Evaluating method 32 Degree Anonymity\n",
      "Anonymizing with method 24 Degree Anonymity\n",
      "Evaluating method 24 Degree Anonymity\n",
      "Anonymizing with method 16 Degree Anonymity\n",
      "Evaluating method 16 Degree Anonymity\n",
      "Anonymizing with method 12-Degree Anonymity\n",
      "Evaluating method 12-Degree Anonymity\n",
      "Anonymizing with method 8-Degree Anonymity\n",
      "Evaluating method 8-Degree Anonymity\n",
      "Anonymizing with method 6 Degree Anonymity\n",
      "Evaluating method 6 Degree Anonymity\n",
      "Anonymizing with method 4 Degree Anonymity\n",
      "Evaluating method 4 Degree Anonymity\n",
      "Anonymizing with method 3-Degree Anonymity\n",
      "Evaluating method 3-Degree Anonymity\n",
      "Anonymizing with method 2-Degree Anonymity\n",
      "Evaluating method 2-Degree Anonymity\n",
      "Anonymizing with method Eager 10^{-0}\n"
     ]
    },
    {
     "name": "stderr",
     "output_type": "stream",
     "text": [
      "CRITICAL:anonymigraph.anonymization.method_private_colors:Equiv. class: Mean Prob. Guess: 0.5333333333333333 Mean Prob. Guess No 1s: 0.25757575757575757 Median: 3.0, Mean: 3.5904761904761906, Nodes with Unique Color Neighbourhood: 39, Number of Nodes: 105, Unique Colors: 2\n"
     ]
    },
    {
     "name": "stdout",
     "output_type": "stream",
     "text": [
      "Evaluating method Eager 10^{-0}\n",
      "Anonymizing with method Eager 10^{-1}\n"
     ]
    },
    {
     "name": "stderr",
     "output_type": "stream",
     "text": [
      "CRITICAL:anonymigraph.anonymization.method_private_colors:Equiv. class: Mean Prob. Guess: 0.9142857142857143 Mean Prob. Guess No 1s: 0.47058823529411764 Median: 1.0, Mean: 1.1904761904761905, Nodes with Unique Color Neighbourhood: 88, Number of Nodes: 105, Unique Colors: 4\n"
     ]
    },
    {
     "name": "stdout",
     "output_type": "stream",
     "text": [
      "Evaluating method Eager 10^{-1}\n",
      "Anonymizing with method Eager 10^{-2}\n"
     ]
    },
    {
     "name": "stderr",
     "output_type": "stream",
     "text": [
      "CRITICAL:anonymigraph.anonymization.method_private_colors:Equiv. class: Mean Prob. Guess: 0.9714285714285714 Mean Prob. Guess No 1s: 0.5 Median: 1.0, Mean: 1.0571428571428572, Nodes with Unique Color Neighbourhood: 99, Number of Nodes: 105, Unique Colors: 8\n"
     ]
    },
    {
     "name": "stdout",
     "output_type": "stream",
     "text": [
      "Evaluating method Eager 10^{-2}\n",
      "Anonymizing with method Eager 5 10^{-3}\n"
     ]
    },
    {
     "name": "stderr",
     "output_type": "stream",
     "text": [
      "CRITICAL:anonymigraph.anonymization.method_private_colors:Equiv. class: Mean Prob. Guess: 0.9809523809523809 Mean Prob. Guess No 1s: 0.5 Median: 1.0, Mean: 1.0380952380952382, Nodes with Unique Color Neighbourhood: 101, Number of Nodes: 105, Unique Colors: 9\n"
     ]
    },
    {
     "name": "stdout",
     "output_type": "stream",
     "text": [
      "Evaluating method Eager 5 10^{-3}\n",
      "Anonymizing with method Eager 10^{-3}\n"
     ]
    },
    {
     "name": "stderr",
     "output_type": "stream",
     "text": [
      "CRITICAL:anonymigraph.anonymization.method_private_colors:Equiv. class: Mean Prob. Guess: 1.0 Mean Prob. Guess No 1s: nan Median: 1.0, Mean: 1.0, Nodes with Unique Color Neighbourhood: 105, Number of Nodes: 105, Unique Colors: 15\n"
     ]
    },
    {
     "name": "stdout",
     "output_type": "stream",
     "text": [
      "Evaluating method Eager 10^{-3}\n",
      "Anonymizing with method Eager 7.5 10^{-4}\n"
     ]
    },
    {
     "name": "stderr",
     "output_type": "stream",
     "text": [
      "CRITICAL:anonymigraph.anonymization.method_private_colors:Equiv. class: Mean Prob. Guess: 1.0 Mean Prob. Guess No 1s: nan Median: 1.0, Mean: 1.0, Nodes with Unique Color Neighbourhood: 105, Number of Nodes: 105, Unique Colors: 17\n"
     ]
    },
    {
     "name": "stdout",
     "output_type": "stream",
     "text": [
      "Evaluating method Eager 7.5 10^{-4}\n",
      "Anonymizing with method Eager 5 10^{-4}\n"
     ]
    },
    {
     "name": "stderr",
     "output_type": "stream",
     "text": [
      "CRITICAL:anonymigraph.anonymization.method_private_colors:Equiv. class: Mean Prob. Guess: 1.0 Mean Prob. Guess No 1s: nan Median: 1.0, Mean: 1.0, Nodes with Unique Color Neighbourhood: 105, Number of Nodes: 105, Unique Colors: 21\n"
     ]
    },
    {
     "name": "stdout",
     "output_type": "stream",
     "text": [
      "Evaluating method Eager 5 10^{-4}\n",
      "Anonymizing with method Eager 4 10^{-4}\n"
     ]
    },
    {
     "name": "stderr",
     "output_type": "stream",
     "text": [
      "CRITICAL:anonymigraph.anonymization.method_private_colors:Equiv. class: Mean Prob. Guess: 1.0 Mean Prob. Guess No 1s: nan Median: 1.0, Mean: 1.0, Nodes with Unique Color Neighbourhood: 105, Number of Nodes: 105, Unique Colors: 24\n"
     ]
    },
    {
     "name": "stdout",
     "output_type": "stream",
     "text": [
      "Evaluating method Eager 4 10^{-4}\n",
      "Anonymizing with method Eager 2.5 10^{-4}\n"
     ]
    },
    {
     "name": "stderr",
     "output_type": "stream",
     "text": [
      "CRITICAL:anonymigraph.anonymization.method_private_colors:Equiv. class: Mean Prob. Guess: 1.0 Mean Prob. Guess No 1s: nan Median: 1.0, Mean: 1.0, Nodes with Unique Color Neighbourhood: 105, Number of Nodes: 105, Unique Colors: 32\n"
     ]
    },
    {
     "name": "stdout",
     "output_type": "stream",
     "text": [
      "Evaluating method Eager 2.5 10^{-4}\n",
      "Anonymizing with method Eager 10^{-4}\n"
     ]
    },
    {
     "name": "stderr",
     "output_type": "stream",
     "text": [
      "CRITICAL:anonymigraph.anonymization.method_private_colors:Equiv. class: Mean Prob. Guess: 1.0 Mean Prob. Guess No 1s: nan Median: 1.0, Mean: 1.0, Nodes with Unique Color Neighbourhood: 105, Number of Nodes: 105, Unique Colors: 46\n"
     ]
    },
    {
     "name": "stdout",
     "output_type": "stream",
     "text": [
      "Evaluating method Eager 10^{-4}\n",
      "Anonymizing with method Eager 5 10^{-5}\n"
     ]
    },
    {
     "name": "stderr",
     "output_type": "stream",
     "text": [
      "CRITICAL:anonymigraph.anonymization.method_private_colors:Equiv. class: Mean Prob. Guess: 1.0 Mean Prob. Guess No 1s: nan Median: 1.0, Mean: 1.0, Nodes with Unique Color Neighbourhood: 105, Number of Nodes: 105, Unique Colors: 60\n"
     ]
    },
    {
     "name": "stdout",
     "output_type": "stream",
     "text": [
      "Evaluating method Eager 5 10^{-5}\n",
      "Anonymizing with method Eager 4 10^{-5}\n"
     ]
    },
    {
     "name": "stderr",
     "output_type": "stream",
     "text": [
      "CRITICAL:anonymigraph.anonymization.method_private_colors:Equiv. class: Mean Prob. Guess: 1.0 Mean Prob. Guess No 1s: nan Median: 1.0, Mean: 1.0, Nodes with Unique Color Neighbourhood: 105, Number of Nodes: 105, Unique Colors: 93\n"
     ]
    },
    {
     "name": "stdout",
     "output_type": "stream",
     "text": [
      "Evaluating method Eager 4 10^{-5}\n",
      "Anonymizing with method 80 Edge Add/Del\n",
      "Evaluating method 80 Edge Add/Del\n",
      "Anonymizing with method 64 Edge Add/Del\n",
      "Evaluating method 64 Edge Add/Del\n",
      "Anonymizing with method 48 Edge Add/Del\n",
      "Evaluating method 48 Edge Add/Del\n",
      "Anonymizing with method 32 Edge Add/Del\n",
      "Evaluating method 32 Edge Add/Del\n",
      "Anonymizing with method 24 Edge Add/Del\n",
      "Evaluating method 24 Edge Add/Del\n",
      "Anonymizing with method 16 Edge Add/Del\n",
      "Evaluating method 16 Edge Add/Del\n",
      "Anonymizing with method 12 Edge Add/Del\n",
      "Evaluating method 12 Edge Add/Del\n",
      "Anonymizing with method 8 Edge Add/Del\n",
      "Evaluating method 8 Edge Add/Del\n",
      "Anonymizing with method 4 Edge Add/Del\n",
      "Evaluating method 4 Edge Add/Del\n",
      "Anonymizing with method 2 Edge Add/Del\n",
      "Evaluating method 2 Edge Add/Del\n",
      "Anonymizing with method 1 Edge Add/Del\n",
      "Evaluating method 1 Edge Add/Del\n",
      "Anonymizing with method 0.5 Edge Add/Del\n",
      "Evaluating method 0.5 Edge Add/Del\n",
      "Anonymizing with method 64 Degree Anonymity\n",
      "Evaluating method 64 Degree Anonymity\n",
      "Anonymizing with method 48-Degree Anonymity\n",
      "Evaluating method 48-Degree Anonymity\n",
      "Anonymizing with method 32 Degree Anonymity\n",
      "Evaluating method 32 Degree Anonymity\n",
      "Anonymizing with method 24 Degree Anonymity\n",
      "Evaluating method 24 Degree Anonymity\n",
      "Anonymizing with method 16 Degree Anonymity\n",
      "Evaluating method 16 Degree Anonymity\n",
      "Anonymizing with method 12-Degree Anonymity\n",
      "Evaluating method 12-Degree Anonymity\n",
      "Anonymizing with method 8-Degree Anonymity\n",
      "Evaluating method 8-Degree Anonymity\n",
      "Anonymizing with method 6 Degree Anonymity\n",
      "Evaluating method 6 Degree Anonymity\n",
      "Anonymizing with method 4 Degree Anonymity\n",
      "Evaluating method 4 Degree Anonymity\n",
      "Anonymizing with method 3-Degree Anonymity\n",
      "Evaluating method 3-Degree Anonymity\n",
      "Anonymizing with method 2-Degree Anonymity\n",
      "Evaluating method 2-Degree Anonymity\n",
      "Anonymizing with method Eager 10^{-0}\n"
     ]
    },
    {
     "name": "stderr",
     "output_type": "stream",
     "text": [
      "CRITICAL:anonymigraph.anonymization.method_private_colors:Equiv. class: Mean Prob. Guess: 0.5238095238095238 Mean Prob. Guess No 1s: 0.3055555555555556 Median: 2.0, Mean: 3.3047619047619046, Nodes with Unique Color Neighbourhood: 33, Number of Nodes: 105, Unique Colors: 2\n"
     ]
    },
    {
     "name": "stdout",
     "output_type": "stream",
     "text": [
      "Evaluating method Eager 10^{-0}\n",
      "Anonymizing with method Eager 10^{-1}\n"
     ]
    },
    {
     "name": "stderr",
     "output_type": "stream",
     "text": [
      "CRITICAL:anonymigraph.anonymization.method_private_colors:Equiv. class: Mean Prob. Guess: 0.8571428571428571 Mean Prob. Guess No 1s: 0.4230769230769231 Median: 1.0, Mean: 1.361904761904762, Nodes with Unique Color Neighbourhood: 79, Number of Nodes: 105, Unique Colors: 4\n"
     ]
    },
    {
     "name": "stdout",
     "output_type": "stream",
     "text": [
      "Evaluating method Eager 10^{-1}\n",
      "Anonymizing with method Eager 10^{-2}\n"
     ]
    },
    {
     "name": "stderr",
     "output_type": "stream",
     "text": [
      "CRITICAL:anonymigraph.anonymization.method_private_colors:Equiv. class: Mean Prob. Guess: 0.9809523809523809 Mean Prob. Guess No 1s: 0.5 Median: 1.0, Mean: 1.0380952380952382, Nodes with Unique Color Neighbourhood: 101, Number of Nodes: 105, Unique Colors: 8\n"
     ]
    },
    {
     "name": "stdout",
     "output_type": "stream",
     "text": [
      "Evaluating method Eager 10^{-2}\n",
      "Anonymizing with method Eager 5 10^{-3}\n"
     ]
    },
    {
     "name": "stderr",
     "output_type": "stream",
     "text": [
      "CRITICAL:anonymigraph.anonymization.method_private_colors:Equiv. class: Mean Prob. Guess: 0.9809523809523809 Mean Prob. Guess No 1s: 0.5 Median: 1.0, Mean: 1.0380952380952382, Nodes with Unique Color Neighbourhood: 101, Number of Nodes: 105, Unique Colors: 9\n"
     ]
    },
    {
     "name": "stdout",
     "output_type": "stream",
     "text": [
      "Evaluating method Eager 5 10^{-3}\n",
      "Anonymizing with method Eager 10^{-3}\n"
     ]
    },
    {
     "name": "stderr",
     "output_type": "stream",
     "text": [
      "CRITICAL:anonymigraph.anonymization.method_private_colors:Equiv. class: Mean Prob. Guess: 1.0 Mean Prob. Guess No 1s: nan Median: 1.0, Mean: 1.0, Nodes with Unique Color Neighbourhood: 105, Number of Nodes: 105, Unique Colors: 15\n"
     ]
    },
    {
     "name": "stdout",
     "output_type": "stream",
     "text": [
      "Evaluating method Eager 10^{-3}\n",
      "Anonymizing with method Eager 7.5 10^{-4}\n"
     ]
    },
    {
     "name": "stderr",
     "output_type": "stream",
     "text": [
      "CRITICAL:anonymigraph.anonymization.method_private_colors:Equiv. class: Mean Prob. Guess: 1.0 Mean Prob. Guess No 1s: nan Median: 1.0, Mean: 1.0, Nodes with Unique Color Neighbourhood: 105, Number of Nodes: 105, Unique Colors: 17\n"
     ]
    },
    {
     "name": "stdout",
     "output_type": "stream",
     "text": [
      "Evaluating method Eager 7.5 10^{-4}\n",
      "Anonymizing with method Eager 5 10^{-4}\n"
     ]
    },
    {
     "name": "stderr",
     "output_type": "stream",
     "text": [
      "CRITICAL:anonymigraph.anonymization.method_private_colors:Equiv. class: Mean Prob. Guess: 1.0 Mean Prob. Guess No 1s: nan Median: 1.0, Mean: 1.0, Nodes with Unique Color Neighbourhood: 105, Number of Nodes: 105, Unique Colors: 21\n"
     ]
    },
    {
     "name": "stdout",
     "output_type": "stream",
     "text": [
      "Evaluating method Eager 5 10^{-4}\n",
      "Anonymizing with method Eager 4 10^{-4}\n"
     ]
    },
    {
     "name": "stderr",
     "output_type": "stream",
     "text": [
      "CRITICAL:anonymigraph.anonymization.method_private_colors:Equiv. class: Mean Prob. Guess: 1.0 Mean Prob. Guess No 1s: nan Median: 1.0, Mean: 1.0, Nodes with Unique Color Neighbourhood: 105, Number of Nodes: 105, Unique Colors: 24\n"
     ]
    },
    {
     "name": "stdout",
     "output_type": "stream",
     "text": [
      "Evaluating method Eager 4 10^{-4}\n",
      "Anonymizing with method Eager 2.5 10^{-4}\n"
     ]
    },
    {
     "name": "stderr",
     "output_type": "stream",
     "text": [
      "CRITICAL:anonymigraph.anonymization.method_private_colors:Equiv. class: Mean Prob. Guess: 1.0 Mean Prob. Guess No 1s: nan Median: 1.0, Mean: 1.0, Nodes with Unique Color Neighbourhood: 105, Number of Nodes: 105, Unique Colors: 32\n"
     ]
    },
    {
     "name": "stdout",
     "output_type": "stream",
     "text": [
      "Evaluating method Eager 2.5 10^{-4}\n",
      "Anonymizing with method Eager 10^{-4}\n"
     ]
    },
    {
     "name": "stderr",
     "output_type": "stream",
     "text": [
      "CRITICAL:anonymigraph.anonymization.method_private_colors:Equiv. class: Mean Prob. Guess: 1.0 Mean Prob. Guess No 1s: nan Median: 1.0, Mean: 1.0, Nodes with Unique Color Neighbourhood: 105, Number of Nodes: 105, Unique Colors: 46\n"
     ]
    },
    {
     "name": "stdout",
     "output_type": "stream",
     "text": [
      "Evaluating method Eager 10^{-4}\n",
      "Anonymizing with method Eager 5 10^{-5}\n"
     ]
    },
    {
     "name": "stderr",
     "output_type": "stream",
     "text": [
      "CRITICAL:anonymigraph.anonymization.method_private_colors:Equiv. class: Mean Prob. Guess: 1.0 Mean Prob. Guess No 1s: nan Median: 1.0, Mean: 1.0, Nodes with Unique Color Neighbourhood: 105, Number of Nodes: 105, Unique Colors: 60\n"
     ]
    },
    {
     "name": "stdout",
     "output_type": "stream",
     "text": [
      "Evaluating method Eager 5 10^{-5}\n",
      "Anonymizing with method Eager 4 10^{-5}\n"
     ]
    },
    {
     "name": "stderr",
     "output_type": "stream",
     "text": [
      "CRITICAL:anonymigraph.anonymization.method_private_colors:Equiv. class: Mean Prob. Guess: 1.0 Mean Prob. Guess No 1s: nan Median: 1.0, Mean: 1.0, Nodes with Unique Color Neighbourhood: 105, Number of Nodes: 105, Unique Colors: 93\n"
     ]
    },
    {
     "name": "stdout",
     "output_type": "stream",
     "text": [
      "Evaluating method Eager 4 10^{-5}\n",
      "Anonymizing with method 80 Edge Add/Del\n",
      "Evaluating method 80 Edge Add/Del\n",
      "Anonymizing with method 64 Edge Add/Del\n",
      "Evaluating method 64 Edge Add/Del\n",
      "Anonymizing with method 48 Edge Add/Del\n",
      "Evaluating method 48 Edge Add/Del\n",
      "Anonymizing with method 32 Edge Add/Del\n",
      "Evaluating method 32 Edge Add/Del\n",
      "Anonymizing with method 24 Edge Add/Del\n",
      "Evaluating method 24 Edge Add/Del\n",
      "Anonymizing with method 16 Edge Add/Del\n",
      "Evaluating method 16 Edge Add/Del\n",
      "Anonymizing with method 12 Edge Add/Del\n",
      "Evaluating method 12 Edge Add/Del\n",
      "Anonymizing with method 8 Edge Add/Del\n",
      "Evaluating method 8 Edge Add/Del\n",
      "Anonymizing with method 4 Edge Add/Del\n",
      "Evaluating method 4 Edge Add/Del\n",
      "Anonymizing with method 2 Edge Add/Del\n",
      "Evaluating method 2 Edge Add/Del\n",
      "Anonymizing with method 1 Edge Add/Del\n",
      "Evaluating method 1 Edge Add/Del\n",
      "Anonymizing with method 0.5 Edge Add/Del\n",
      "Evaluating method 0.5 Edge Add/Del\n",
      "Anonymizing with method 64 Degree Anonymity\n",
      "Evaluating method 64 Degree Anonymity\n",
      "Anonymizing with method 48-Degree Anonymity\n",
      "Evaluating method 48-Degree Anonymity\n",
      "Anonymizing with method 32 Degree Anonymity\n",
      "Evaluating method 32 Degree Anonymity\n",
      "Anonymizing with method 24 Degree Anonymity\n",
      "Evaluating method 24 Degree Anonymity\n",
      "Anonymizing with method 16 Degree Anonymity\n",
      "Evaluating method 16 Degree Anonymity\n",
      "Anonymizing with method 12-Degree Anonymity\n",
      "Evaluating method 12-Degree Anonymity\n",
      "Anonymizing with method 8-Degree Anonymity\n",
      "Evaluating method 8-Degree Anonymity\n",
      "Anonymizing with method 6 Degree Anonymity\n",
      "Evaluating method 6 Degree Anonymity\n",
      "Anonymizing with method 4 Degree Anonymity\n",
      "Evaluating method 4 Degree Anonymity\n",
      "Anonymizing with method 3-Degree Anonymity\n",
      "Evaluating method 3-Degree Anonymity\n",
      "Anonymizing with method 2-Degree Anonymity\n",
      "Evaluating method 2-Degree Anonymity\n",
      "Anonymizing with method Eager 10^{-0}\n"
     ]
    },
    {
     "name": "stderr",
     "output_type": "stream",
     "text": [
      "CRITICAL:anonymigraph.anonymization.method_private_colors:Equiv. class: Mean Prob. Guess: 0.5333333333333333 Mean Prob. Guess No 1s: 0.2898550724637681 Median: 2.0, Mean: 3.323809523809524, Nodes with Unique Color Neighbourhood: 36, Number of Nodes: 105, Unique Colors: 2\n"
     ]
    },
    {
     "name": "stdout",
     "output_type": "stream",
     "text": [
      "Evaluating method Eager 10^{-0}\n",
      "Anonymizing with method Eager 10^{-1}\n"
     ]
    },
    {
     "name": "stderr",
     "output_type": "stream",
     "text": [
      "CRITICAL:anonymigraph.anonymization.method_private_colors:Equiv. class: Mean Prob. Guess: 0.9238095238095239 Mean Prob. Guess No 1s: 0.5 Median: 1.0, Mean: 1.1523809523809523, Nodes with Unique Color Neighbourhood: 89, Number of Nodes: 105, Unique Colors: 4\n"
     ]
    },
    {
     "name": "stdout",
     "output_type": "stream",
     "text": [
      "Evaluating method Eager 10^{-1}\n",
      "Anonymizing with method Eager 10^{-2}\n"
     ]
    },
    {
     "name": "stderr",
     "output_type": "stream",
     "text": [
      "CRITICAL:anonymigraph.anonymization.method_private_colors:Equiv. class: Mean Prob. Guess: 0.9714285714285714 Mean Prob. Guess No 1s: 0.5 Median: 1.0, Mean: 1.0571428571428572, Nodes with Unique Color Neighbourhood: 99, Number of Nodes: 105, Unique Colors: 8\n"
     ]
    },
    {
     "name": "stdout",
     "output_type": "stream",
     "text": [
      "Evaluating method Eager 10^{-2}\n",
      "Anonymizing with method Eager 5 10^{-3}\n"
     ]
    },
    {
     "name": "stderr",
     "output_type": "stream",
     "text": [
      "CRITICAL:anonymigraph.anonymization.method_private_colors:Equiv. class: Mean Prob. Guess: 0.9809523809523809 Mean Prob. Guess No 1s: 0.5 Median: 1.0, Mean: 1.0380952380952382, Nodes with Unique Color Neighbourhood: 101, Number of Nodes: 105, Unique Colors: 9\n"
     ]
    },
    {
     "name": "stdout",
     "output_type": "stream",
     "text": [
      "Evaluating method Eager 5 10^{-3}\n",
      "Anonymizing with method Eager 10^{-3}\n"
     ]
    },
    {
     "name": "stderr",
     "output_type": "stream",
     "text": [
      "CRITICAL:anonymigraph.anonymization.method_private_colors:Equiv. class: Mean Prob. Guess: 1.0 Mean Prob. Guess No 1s: nan Median: 1.0, Mean: 1.0, Nodes with Unique Color Neighbourhood: 105, Number of Nodes: 105, Unique Colors: 15\n"
     ]
    },
    {
     "name": "stdout",
     "output_type": "stream",
     "text": [
      "Evaluating method Eager 10^{-3}\n",
      "Anonymizing with method Eager 7.5 10^{-4}\n"
     ]
    },
    {
     "name": "stderr",
     "output_type": "stream",
     "text": [
      "CRITICAL:anonymigraph.anonymization.method_private_colors:Equiv. class: Mean Prob. Guess: 1.0 Mean Prob. Guess No 1s: nan Median: 1.0, Mean: 1.0, Nodes with Unique Color Neighbourhood: 105, Number of Nodes: 105, Unique Colors: 17\n"
     ]
    },
    {
     "name": "stdout",
     "output_type": "stream",
     "text": [
      "Evaluating method Eager 7.5 10^{-4}\n",
      "Anonymizing with method Eager 5 10^{-4}\n"
     ]
    },
    {
     "name": "stderr",
     "output_type": "stream",
     "text": [
      "CRITICAL:anonymigraph.anonymization.method_private_colors:Equiv. class: Mean Prob. Guess: 1.0 Mean Prob. Guess No 1s: nan Median: 1.0, Mean: 1.0, Nodes with Unique Color Neighbourhood: 105, Number of Nodes: 105, Unique Colors: 21\n"
     ]
    },
    {
     "name": "stdout",
     "output_type": "stream",
     "text": [
      "Evaluating method Eager 5 10^{-4}\n",
      "Anonymizing with method Eager 4 10^{-4}\n"
     ]
    },
    {
     "name": "stderr",
     "output_type": "stream",
     "text": [
      "CRITICAL:anonymigraph.anonymization.method_private_colors:Equiv. class: Mean Prob. Guess: 1.0 Mean Prob. Guess No 1s: nan Median: 1.0, Mean: 1.0, Nodes with Unique Color Neighbourhood: 105, Number of Nodes: 105, Unique Colors: 24\n"
     ]
    },
    {
     "name": "stdout",
     "output_type": "stream",
     "text": [
      "Evaluating method Eager 4 10^{-4}\n",
      "Anonymizing with method Eager 2.5 10^{-4}\n"
     ]
    },
    {
     "name": "stderr",
     "output_type": "stream",
     "text": [
      "CRITICAL:anonymigraph.anonymization.method_private_colors:Equiv. class: Mean Prob. Guess: 1.0 Mean Prob. Guess No 1s: nan Median: 1.0, Mean: 1.0, Nodes with Unique Color Neighbourhood: 105, Number of Nodes: 105, Unique Colors: 32\n"
     ]
    },
    {
     "name": "stdout",
     "output_type": "stream",
     "text": [
      "Evaluating method Eager 2.5 10^{-4}\n",
      "Anonymizing with method Eager 10^{-4}\n"
     ]
    },
    {
     "name": "stderr",
     "output_type": "stream",
     "text": [
      "CRITICAL:anonymigraph.anonymization.method_private_colors:Equiv. class: Mean Prob. Guess: 1.0 Mean Prob. Guess No 1s: nan Median: 1.0, Mean: 1.0, Nodes with Unique Color Neighbourhood: 105, Number of Nodes: 105, Unique Colors: 46\n"
     ]
    },
    {
     "name": "stdout",
     "output_type": "stream",
     "text": [
      "Evaluating method Eager 10^{-4}\n",
      "Anonymizing with method Eager 5 10^{-5}\n"
     ]
    },
    {
     "name": "stderr",
     "output_type": "stream",
     "text": [
      "CRITICAL:anonymigraph.anonymization.method_private_colors:Equiv. class: Mean Prob. Guess: 1.0 Mean Prob. Guess No 1s: nan Median: 1.0, Mean: 1.0, Nodes with Unique Color Neighbourhood: 105, Number of Nodes: 105, Unique Colors: 60\n"
     ]
    },
    {
     "name": "stdout",
     "output_type": "stream",
     "text": [
      "Evaluating method Eager 5 10^{-5}\n",
      "Anonymizing with method Eager 4 10^{-5}\n"
     ]
    },
    {
     "name": "stderr",
     "output_type": "stream",
     "text": [
      "CRITICAL:anonymigraph.anonymization.method_private_colors:Equiv. class: Mean Prob. Guess: 1.0 Mean Prob. Guess No 1s: nan Median: 1.0, Mean: 1.0, Nodes with Unique Color Neighbourhood: 105, Number of Nodes: 105, Unique Colors: 93\n"
     ]
    },
    {
     "name": "stdout",
     "output_type": "stream",
     "text": [
      "Evaluating method Eager 4 10^{-5}\n",
      "Anonymizing with method 80 Edge Add/Del\n",
      "Evaluating method 80 Edge Add/Del\n",
      "Anonymizing with method 64 Edge Add/Del\n",
      "Evaluating method 64 Edge Add/Del\n",
      "Anonymizing with method 48 Edge Add/Del\n",
      "Evaluating method 48 Edge Add/Del\n",
      "Anonymizing with method 32 Edge Add/Del\n",
      "Evaluating method 32 Edge Add/Del\n",
      "Anonymizing with method 24 Edge Add/Del\n",
      "Evaluating method 24 Edge Add/Del\n",
      "Anonymizing with method 16 Edge Add/Del\n",
      "Evaluating method 16 Edge Add/Del\n",
      "Anonymizing with method 12 Edge Add/Del\n",
      "Evaluating method 12 Edge Add/Del\n",
      "Anonymizing with method 8 Edge Add/Del\n",
      "Evaluating method 8 Edge Add/Del\n",
      "Anonymizing with method 4 Edge Add/Del\n",
      "Evaluating method 4 Edge Add/Del\n",
      "Anonymizing with method 2 Edge Add/Del\n",
      "Evaluating method 2 Edge Add/Del\n",
      "Anonymizing with method 1 Edge Add/Del\n",
      "Evaluating method 1 Edge Add/Del\n",
      "Anonymizing with method 0.5 Edge Add/Del\n",
      "Evaluating method 0.5 Edge Add/Del\n",
      "Anonymizing with method 64 Degree Anonymity\n",
      "Evaluating method 64 Degree Anonymity\n",
      "Anonymizing with method 48-Degree Anonymity\n",
      "Evaluating method 48-Degree Anonymity\n",
      "Anonymizing with method 32 Degree Anonymity\n",
      "Evaluating method 32 Degree Anonymity\n",
      "Anonymizing with method 24 Degree Anonymity\n",
      "Evaluating method 24 Degree Anonymity\n",
      "Anonymizing with method 16 Degree Anonymity\n",
      "Evaluating method 16 Degree Anonymity\n",
      "Anonymizing with method 12-Degree Anonymity\n",
      "Evaluating method 12-Degree Anonymity\n",
      "Anonymizing with method 8-Degree Anonymity\n",
      "Evaluating method 8-Degree Anonymity\n",
      "Anonymizing with method 6 Degree Anonymity\n",
      "Evaluating method 6 Degree Anonymity\n",
      "Anonymizing with method 4 Degree Anonymity\n",
      "Evaluating method 4 Degree Anonymity\n",
      "Anonymizing with method 3-Degree Anonymity\n",
      "Evaluating method 3-Degree Anonymity\n",
      "Anonymizing with method 2-Degree Anonymity\n",
      "Evaluating method 2-Degree Anonymity\n"
     ]
    },
    {
     "ename": "NameError",
     "evalue": "name 'pickle' is not defined",
     "output_type": "error",
     "traceback": [
      "\u001b[1;31m---------------------------------------------------------------------------\u001b[0m",
      "\u001b[1;31mNameError\u001b[0m                                 Traceback (most recent call last)",
      "Cell \u001b[1;32mIn[4], line 82\u001b[0m\n\u001b[0;32m     80\u001b[0m os\u001b[38;5;241m.\u001b[39mmakedirs(\u001b[38;5;124m'\u001b[39m\u001b[38;5;124mcache\u001b[39m\u001b[38;5;124m'\u001b[39m, exist_ok\u001b[38;5;241m=\u001b[39m\u001b[38;5;28;01mTrue\u001b[39;00m)\n\u001b[0;32m     81\u001b[0m \u001b[38;5;28;01mwith\u001b[39;00m \u001b[38;5;28mopen\u001b[39m(\u001b[38;5;124m'\u001b[39m\u001b[38;5;124mcache/exp3_figure_polbooks_samples_data.pkl\u001b[39m\u001b[38;5;124m'\u001b[39m, \u001b[38;5;124m'\u001b[39m\u001b[38;5;124mwb\u001b[39m\u001b[38;5;124m'\u001b[39m) \u001b[38;5;28;01mas\u001b[39;00m f:\n\u001b[1;32m---> 82\u001b[0m     \u001b[43mpickle\u001b[49m\u001b[38;5;241m.\u001b[39mdump(polbooks_samples_data, f)\n",
      "\u001b[1;31mNameError\u001b[0m: name 'pickle' is not defined"
     ]
    }
   ],
   "source": [
    "polbooks_samples_data = []\n",
    "for seed in range(42, 42+4): # 4 samples with different seeds\n",
    "    # METRICS\n",
    "    metrics = {\n",
    "        # Important\n",
    "        # Graph Level\n",
    "        #\"|Δ|\": NumberOfTrianglesMetric(),\n",
    "        #\"Transitivity\": TransitivityMetric(),\n",
    "\n",
    "        # Node Level\n",
    "        \"Katz\": KatzCentralityMetric(alpha=alpha),\n",
    "        \"Ev.\": EigenvectorMetric(),\n",
    "        \"LCC\": LocalClusteringCoefficientMetric(),\n",
    "        #\"TVD WL Colors d=2\": WLColorMetric(depth=2),\n",
    "\n",
    "        # Graph Level\n",
    "        #\"|CC|\": ConnectedComponentsMetric(),\n",
    "        #\"Median Deg.\": MedianDegreeMetric(),\n",
    "        #\"Avg. Deg.\": MeanDegreeMetric(),\n",
    "        #\"Max Deg.\": MaxDegreeMetric(),\n",
    "        #\"PageRank\":\tPageRankMetric(),\n",
    "\n",
    "        \"EJacc\": EdgeJaccardMetric(),\n",
    "    }\n",
    "\n",
    "    methods = {}\n",
    "\n",
    "    #methods[\"PrivateColor(w=1e1)\"] = PrivateColorAnonymizer(w=1e1, alpha=alpha, is_eager=True, use_optimal1d=False)\n",
    "    methods[r\"Eager 10^{-0}\"] = PrivateColorAnonymizer(w=1e-0, alpha=alpha, is_eager=True, use_optimal1d=False)\n",
    "    methods[r\"Eager 10^{-1}\"] = PrivateColorAnonymizer(w=1e-1, alpha=alpha, is_eager=True, use_optimal1d=False)\n",
    "    methods[r\"Eager 10^{-2}\"] = PrivateColorAnonymizer(w=1e-2, alpha=alpha, is_eager=True, use_optimal1d=False)\n",
    "    methods[r\"Eager 5 10^{-3}\"] = PrivateColorAnonymizer(w=5e-3, alpha=alpha, is_eager=True, use_optimal1d=False)\n",
    "    methods[r\"Eager 10^{-3}\"] = PrivateColorAnonymizer(w=1e-3, alpha=alpha, is_eager=True, use_optimal1d=False)\n",
    "    methods[r\"Eager 7.5 10^{-4}\"] = PrivateColorAnonymizer(w=7.5e-4, alpha=alpha, is_eager=True, use_optimal1d=False)\n",
    "    methods[r\"Eager 5 10^{-4}\"] = PrivateColorAnonymizer(w=5e-4, alpha=alpha, is_eager=True, use_optimal1d=False)\n",
    "    methods[r\"Eager 4 10^{-4}\"] = PrivateColorAnonymizer(w=4e-4, alpha=alpha, is_eager=True, use_optimal1d=False)\n",
    "    methods[r\"Eager 2.5 10^{-4}\"] = PrivateColorAnonymizer(w=2.5e-4, alpha=alpha, is_eager=True, use_optimal1d=False)\n",
    "    methods[r\"Eager 10^{-4}\"] = PrivateColorAnonymizer(w=1e-4, alpha=alpha, is_eager=True, use_optimal1d=False)\n",
    "    methods[r\"Eager 5 10^{-5}\"] = PrivateColorAnonymizer(w=5e-5, alpha=alpha, is_eager=True, use_optimal1d=False)\n",
    "    methods[r\"Eager 4 10^{-5}\"] = PrivateColorAnonymizer(w=1e-5, alpha=alpha, is_eager=True, use_optimal1d=False)\n",
    "\n",
    "    methods[r\"80 Edge Add/Del\"] = RandomEdgeAddDelAnonymizer(m = int(80/100*G.number_of_edges()))\n",
    "    methods[r\"64 Edge Add/Del\"] = RandomEdgeAddDelAnonymizer(m = int(64/100*G.number_of_edges()))\n",
    "    methods[r\"48 Edge Add/Del\"] = RandomEdgeAddDelAnonymizer(m = int(48/100*G.number_of_edges()))\n",
    "    methods[r\"32 Edge Add/Del\"] = RandomEdgeAddDelAnonymizer(m = int(32/100*G.number_of_edges()))\n",
    "    methods[r\"24 Edge Add/Del\"] = RandomEdgeAddDelAnonymizer(m = int(24/100*G.number_of_edges()))\n",
    "    methods[r\"16 Edge Add/Del\"] = RandomEdgeAddDelAnonymizer(m = int(16/100*G.number_of_edges()))\n",
    "    methods[r\"12 Edge Add/Del\"] = RandomEdgeAddDelAnonymizer(m = int(12/100*G.number_of_edges()))\n",
    "    methods[r\"8 Edge Add/Del\"] = RandomEdgeAddDelAnonymizer(m = int(8/100*G.number_of_edges()))\n",
    "    methods[r\"4 Edge Add/Del\"] = RandomEdgeAddDelAnonymizer(m = int(4/100*G.number_of_edges()))\n",
    "    methods[r\"2 Edge Add/Del\"] = RandomEdgeAddDelAnonymizer(m = int(2/100*G.number_of_edges()))\n",
    "    methods[r\"1 Edge Add/Del\"] = RandomEdgeAddDelAnonymizer(m = int(1/100*G.number_of_edges()))\n",
    "    methods[r\"0.5 Edge Add/Del\"] = RandomEdgeAddDelAnonymizer(m = int(0.5/100*G.number_of_edges()))\n",
    "\n",
    "    methods[r\"64 Degree Anonymity\"] = KDegreeAnonymizer(k=64)\n",
    "    methods[r\"48-Degree Anonymity\"] = KDegreeAnonymizer(k=48)\n",
    "    methods[r\"32 Degree Anonymity\"] = KDegreeAnonymizer(k=32)\n",
    "    methods[r\"24 Degree Anonymity\"] = KDegreeAnonymizer(k=24)\n",
    "    methods[r\"16 Degree Anonymity\"] = KDegreeAnonymizer(k=16)\n",
    "    methods[r\"12-Degree Anonymity\"] = KDegreeAnonymizer(k=12)\n",
    "    methods[r\"8-Degree Anonymity\"] = KDegreeAnonymizer(k=8)\n",
    "    methods[r\"6 Degree Anonymity\"] = KDegreeAnonymizer(k=6)\n",
    "    methods[r\"4 Degree Anonymity\"] = KDegreeAnonymizer(k=4)\n",
    "    methods[r\"3-Degree Anonymity\"] = KDegreeAnonymizer(k=3)\n",
    "    methods[r\"2-Degree Anonymity\"] = KDegreeAnonymizer(k=2)\n",
    "\n",
    "\n",
    "    evaluator = Evaluator(metrics)\n",
    "\n",
    "    data = {}\n",
    "\n",
    "    for method_name, method in methods.items():\n",
    "        print(f\"Anonymizing with method {method_name}\")\n",
    "        Ga = method.anonymize(G, random_seed=seed)\n",
    "        print(f\"Evaluating method {method_name}\")\n",
    "        data[method_name] = evaluator.evaluate(G, Ga)\n",
    "\n",
    "    polbooks_samples_data.append(data)\n",
    "\n",
    "os.makedirs('cache', exist_ok=True)\n",
    "with open('cache/exp3_figure_polbooks_samples_data.pkl', 'wb') as f:\n",
    "    pickle.dump(polbooks_samples_data, f)"
   ]
  },
  {
   "cell_type": "markdown",
   "metadata": {},
   "source": [
    "# CA-GrQc"
   ]
  },
  {
   "cell_type": "code",
   "execution_count": null,
   "metadata": {},
   "outputs": [],
   "source": [
    "import gzip\n",
    "import networkx as nx\n",
    "import urllib.request\n",
    "import os\n",
    "from scipy.sparse.linalg import eigs\n",
    "import numpy as np\n",
    "\n",
    "\n",
    "if not os.path.exists('ca-GrQc.txt.gz'):\n",
    "    urllib.request.urlretrieve('https://snap.stanford.edu/data/ca-GrQc.txt.gz', 'ca-GrQc.txt.gz')\n",
    "\n",
    "with gzip.open('ca-GrQc.txt.gz', 'rt') as f:\n",
    "    G = nx.read_edgelist(f)\n",
    "\n",
    "# relabel and remove self loops\n",
    "G = nx.convert_node_labels_to_integers(G)\n",
    "G.remove_edges_from(nx.selfloop_edges(G)) # There are 12 self loops in the original graph\n",
    "\n",
    "eigenvalues, _ = eigs(nx.adjacency_matrix(G).astype(np.float64), k=1, which='LM')\n",
    "max_alpha = 1 / np.abs(eigenvalues).max()\n",
    "\n",
    "alpha=0.5*max_alpha\n",
    "beta=1\n",
    "print(G)\n",
    "print(\"Alpha:\", alpha)"
   ]
  },
  {
   "cell_type": "code",
   "execution_count": null,
   "metadata": {},
   "outputs": [],
   "source": [
    "ca_GRQC_samples_data = []\n",
    "for seed in range(60, 60+2): # 4 samples with different seeds\n",
    "    # METRICS\n",
    "    metrics = {\n",
    "        # Important\n",
    "        # Graph Level\n",
    "        #\"|Δ|\": NumberOfTrianglesMetric(),\n",
    "        #\"Transitivity\": TransitivityMetric(),\n",
    "\n",
    "        # Node Level\n",
    "        \"Katz\": KatzCentralityMetric(alpha=alpha),\n",
    "        \"Ev.\": EigenvectorMetric(),\n",
    "        \"LCC\": LocalClusteringCoefficientMetric(),\n",
    "        #\"TVD WL Colors d=2\": WLColorMetric(depth=2),\n",
    "\n",
    "        # Graph Level\n",
    "        #\"|CC|\": ConnectedComponentsMetric(),\n",
    "        #\"Median Deg.\": MedianDegreeMetric(),\n",
    "        #\"Avg. Deg.\": MeanDegreeMetric(),\n",
    "        #\"Max Deg.\": MaxDegreeMetric(),\n",
    "        #\"PageRank\":\tPageRankMetric(),\n",
    "\n",
    "        \"EJacc\": EdgeJaccardMetric(),\n",
    "    }\n",
    "\n",
    "    methods = {}\n",
    "\n",
    "    #methods[\"PrivateColor(w=1e1)\"] = PrivateColorAnonymizer(w=1e1, alpha=alpha, is_eager=True, use_optimal1d=False)\n",
    "    #methods[r\"Eager 10^{-0}\"] = PrivateColorAnonymizer(w=1e-0, alpha=alpha, is_eager=True, use_optimal1d=False)\n",
    "    #methods[r\"Eager 10^{-1}\"] = PrivateColorAnonymizer(w=1e-1, alpha=alpha, is_eager=True, use_optimal1d=False)\n",
    "    methods[r\"Eager 10^{-2}\"] = PrivateColorAnonymizer(w=1e-2, alpha=alpha, is_eager=True, use_optimal1d=False)\n",
    "    methods[r\"Eager 5 10^{-3}\"] = PrivateColorAnonymizer(w=5e-3, alpha=alpha, is_eager=True, use_optimal1d=False)\n",
    "    methods[r\"Eager 10^{-3}\"] = PrivateColorAnonymizer(w=1e-3, alpha=alpha, is_eager=True, use_optimal1d=False)\n",
    "    #methods[r\"Eager 7.5 10^{-4}\"] = PrivateColorAnonymizer(w=7.5e-4, alpha=alpha, is_eager=True, use_optimal1d=False)\n",
    "    methods[r\"Eager 5 10^{-4}\"] = PrivateColorAnonymizer(w=5e-4, alpha=alpha, is_eager=True, use_optimal1d=False)\n",
    "    #methods[r\"Eager 4 10^{-4}\"] = PrivateColorAnonymizer(w=4e-4, alpha=alpha, is_eager=True, use_optimal1d=False)\n",
    "    #methods[r\"Eager 2.5 10^{-4}\"] = PrivateColorAnonymizer(w=2.5e-4, alpha=alpha, is_eager=True, use_optimal1d=False)\n",
    "    methods[r\"Eager 10^{-4}\"] = PrivateColorAnonymizer(w=1e-4, alpha=alpha, is_eager=True, use_optimal1d=False)\n",
    "    #methods[r\"Eager 5 10^{-5}\"] = PrivateColorAnonymizer(w=5e-5, alpha=alpha, is_eager=True, use_optimal1d=False)\n",
    "    methods[r\"Eager 10^{-5}\"] = PrivateColorAnonymizer(w=1e-5, alpha=alpha, is_eager=True, use_optimal1d=False)\n",
    "    methods[r\"Eager 10^{-6}\"] = PrivateColorAnonymizer(w=1e-6, alpha=alpha, is_eager=True, use_optimal1d=False)\n",
    "    methods[r\"Eager 10^{-7}\"] = PrivateColorAnonymizer(w=1e-7, alpha=alpha, is_eager=True, use_optimal1d=False)\n",
    "    methods[r\"Eager 10^{-8}\"] = PrivateColorAnonymizer(w=1e-8, alpha=alpha, is_eager=True, use_optimal1d=False)\n",
    "\n",
    "    methods[r\"80 Edge Add/Del\"] = RandomEdgeAddDelAnonymizer(m = int(80/100*G.number_of_edges()))\n",
    "    methods[r\"64 Edge Add/Del\"] = RandomEdgeAddDelAnonymizer(m = int(64/100*G.number_of_edges()))\n",
    "    methods[r\"48 Edge Add/Del\"] = RandomEdgeAddDelAnonymizer(m = int(48/100*G.number_of_edges()))\n",
    "    methods[r\"32 Edge Add/Del\"] = RandomEdgeAddDelAnonymizer(m = int(32/100*G.number_of_edges()))\n",
    "    methods[r\"24 Edge Add/Del\"] = RandomEdgeAddDelAnonymizer(m = int(24/100*G.number_of_edges()))\n",
    "    methods[r\"16 Edge Add/Del\"] = RandomEdgeAddDelAnonymizer(m = int(16/100*G.number_of_edges()))\n",
    "    methods[r\"12 Edge Add/Del\"] = RandomEdgeAddDelAnonymizer(m = int(12/100*G.number_of_edges()))\n",
    "    methods[r\"8 Edge Add/Del\"] = RandomEdgeAddDelAnonymizer(m = int(8/100*G.number_of_edges()))\n",
    "    methods[r\"4 Edge Add/Del\"] = RandomEdgeAddDelAnonymizer(m = int(4/100*G.number_of_edges()))\n",
    "    methods[r\"2 Edge Add/Del\"] = RandomEdgeAddDelAnonymizer(m = int(2/100*G.number_of_edges()))\n",
    "    methods[r\"1 Edge Add/Del\"] = RandomEdgeAddDelAnonymizer(m = int(1/100*G.number_of_edges()))\n",
    "    methods[r\"0.5 Edge Add/Del\"] = RandomEdgeAddDelAnonymizer(m = int(0.5/100*G.number_of_edges()))\n",
    "\n",
    "    #methods[r\"1024 Degree Anonymity\"] = KDegreeAnonymizer(k=1024)\n",
    "    methods[r\"512 Degree Anonymity\"] = KDegreeAnonymizer(k=512)\n",
    "    methods[r\"256 Degree Anonymity\"] = KDegreeAnonymizer(k=256)\n",
    "    methods[r\"128 Degree Anonymity\"] = KDegreeAnonymizer(k=128)\n",
    "    methods[r\"64 Degree Anonymity\"] = KDegreeAnonymizer(k=64)\n",
    "    methods[r\"16 Degree Anonymity\"] = KDegreeAnonymizer(k=16)\n",
    "    methods[r\"8-Degree Anonymity\"] = KDegreeAnonymizer(k=8)\n",
    "\n",
    "\n",
    "    evaluator = Evaluator(metrics)\n",
    "\n",
    "    data = {}\n",
    "\n",
    "    for method_name, method in methods.items():\n",
    "        print(f\"Anonymizing with method {method_name}\")\n",
    "        Ga = method.anonymize(G, random_seed=seed)\n",
    "        print(f\"Evaluating method {method_name}\")\n",
    "        data[method_name] = evaluator.evaluate(G, Ga)\n",
    "\n",
    "    ca_GRQC_samples_data.append(data)\n",
    "\n",
    "os.makedirs('cache', exist_ok=True)\n",
    "with open('cache/exp3_figure_ca_GRQC_samples_data.pkl', 'wb') as f:\n",
    "    pickle.dump(ca_GRQC_samples_data, f)"
   ]
  },
  {
   "cell_type": "markdown",
   "metadata": {},
   "source": [
    "# Enron"
   ]
  },
  {
   "cell_type": "code",
   "execution_count": null,
   "metadata": {},
   "outputs": [],
   "source": [
    "import gzip\n",
    "import networkx as nx\n",
    "import urllib.request\n",
    "import os\n",
    "from scipy.sparse.linalg import eigs\n",
    "import numpy as np\n",
    "\n",
    "\n",
    "if not os.path.exists('email-Enron.txt.gz'):\n",
    "    urllib.request.urlretrieve('https://snap.stanford.edu/data/email-Enron.txt.gz', 'email-Enron.txt.gz')\n",
    "\n",
    "with gzip.open('email-Enron.txt.gz', 'rt') as f:\n",
    "    G = nx.read_edgelist(f)\n",
    "\n",
    "# relabel and remove self loops\n",
    "G = nx.convert_node_labels_to_integers(G)\n",
    "\n",
    "eigenvalues, _ = eigs(nx.adjacency_matrix(G).astype(np.float64), k=1, which='LM')\n",
    "max_alpha = 1 / np.abs(eigenvalues).max()\n",
    "\n",
    "alpha=0.5*max_alpha\n",
    "beta=1\n",
    "print(G)\n",
    "print(\"Alpha:\", alpha)"
   ]
  },
  {
   "cell_type": "code",
   "execution_count": 5,
   "metadata": {},
   "outputs": [],
   "source": [
    "import sys\n",
    "sys.setrecursionlimit(100_000)"
   ]
  },
  {
   "cell_type": "code",
   "execution_count": null,
   "metadata": {},
   "outputs": [],
   "source": [
    "enron_samples_data = []\n",
    "for seed in range(77, 77+1): # 4 samples with different seeds\n",
    "    # METRICS\n",
    "    metrics = {\n",
    "        # Important\n",
    "        # Graph Level\n",
    "        #\"|Δ|\": NumberOfTrianglesMetric(),\n",
    "        #\"Transitivity\": TransitivityMetric(),\n",
    "\n",
    "        # Node Level\n",
    "        \"Katz\": KatzCentralityMetric(alpha=alpha),\n",
    "        \"Ev.\": EigenvectorMetric(),\n",
    "        \"LCC\": LocalClusteringCoefficientMetric(),\n",
    "        #\"TVD WL Colors d=2\": WLColorMetric(depth=2),\n",
    "\n",
    "        # Graph Level\n",
    "        #\"|CC|\": ConnectedComponentsMetric(),\n",
    "        #\"Median Deg.\": MedianDegreeMetric(),\n",
    "        #\"Avg. Deg.\": MeanDegreeMetric(),\n",
    "        #\"Max Deg.\": MaxDegreeMetric(),\n",
    "        #\"PageRank\":\tPageRankMetric(),\n",
    "\n",
    "        \"EJacc\": EdgeJaccardMetric(),\n",
    "    }\n",
    "\n",
    "    methods = {}\n",
    "    methods[r\"Eager 2.5 10^{-7}\"] = PrivateColorAnonymizer(w=2.5e-7, alpha=alpha, is_eager=True, use_optimal1d=True)\n",
    "\n",
    "\n",
    "    #methods[\"PrivateColor(w=1e1)\"] = PrivateColorAnonymizer(w=1e1, alpha=alpha, is_eager=True, use_optimal1d=False)\n",
    "    #methods[r\"Eager 10^{-0}\"] = PrivateColorAnonymizer(w=1e-0, alpha=alpha, is_eager=True, use_optimal1d=False)\n",
    "    #methods[r\"Eager 10^{-1}\"] = PrivateColorAnonymizer(w=1e-1, alpha=alpha, is_eager=True, use_optimal1d=False)\n",
    "    methods[r\"Eager 10^{-2}\"] = PrivateColorAnonymizer(w=1e-2, alpha=alpha, is_eager=True, use_optimal1d=True)\n",
    "    methods[r\"Eager 5 10^{-3}\"] = PrivateColorAnonymizer(w=5e-3, alpha=alpha, is_eager=True, use_optimal1d=True)\n",
    "    methods[r\"Eager 10^{-3}\"] = PrivateColorAnonymizer(w=1e-3, alpha=alpha, is_eager=True, use_optimal1d=True)\n",
    "    #methods[r\"Eager 7.5 10^{-4}\"] = PrivateColorAnonymizer(w=7.5e-4, alpha=alpha, is_eager=True, use_optimal1d=False)\n",
    "    methods[r\"Eager 5 10^{-4}\"] = PrivateColorAnonymizer(w=5e-4, alpha=alpha, is_eager=True, use_optimal1d=True)\n",
    "    #methods[r\"Eager 4 10^{-4}\"] = PrivateColorAnonymizer(w=4e-4, alpha=alpha, is_eager=True, use_optimal1d=False)\n",
    "    #methods[r\"Eager 2.5 10^{-4}\"] = PrivateColorAnonymizer(w=2.5e-4, alpha=alpha, is_eager=True, use_optimal1d=False)\n",
    "    methods[r\"Eager 10^{-4}\"] = PrivateColorAnonymizer(w=1e-4, alpha=alpha, is_eager=True, use_optimal1d=True)\n",
    "    #methods[r\"Eager 5 10^{-5}\"] = PrivateColorAnonymizer(w=5e-5, alpha=alpha, is_eager=True, use_optimal1d=False)\n",
    "    methods[r\"Eager 10^{-5}\"] = PrivateColorAnonymizer(w=1e-5, alpha=alpha, is_eager=True, use_optimal1d=True)\n",
    "    methods[r\"Eager 10^{-6}\"] = PrivateColorAnonymizer(w=1e-6, alpha=alpha, is_eager=True, use_optimal1d=True)\n",
    "    methods[r\"Eager 5 10^{-7}\"] = PrivateColorAnonymizer(w=5e-7, alpha=alpha, is_eager=True, use_optimal1d=True)\n",
    "\n",
    "    #methods[r\"80 Edge Add/Del\"] = RandomEdgeAddDelAnonymizer(m = int(80/100*G.number_of_edges()))\n",
    "    methods[r\"64 Edge Add/Del\"] = RandomEdgeAddDelAnonymizer(m = int(64/100*G.number_of_edges()))\n",
    "    #methods[r\"48 Edge Add/Del\"] = RandomEdgeAddDelAnonymizer(m = int(48/100*G.number_of_edges()))\n",
    "    methods[r\"32 Edge Add/Del\"] = RandomEdgeAddDelAnonymizer(m = int(32/100*G.number_of_edges()))\n",
    "    #methods[r\"24 Edge Add/Del\"] = RandomEdgeAddDelAnonymizer(m = int(24/100*G.number_of_edges()))\n",
    "    methods[r\"16 Edge Add/Del\"] = RandomEdgeAddDelAnonymizer(m = int(16/100*G.number_of_edges()))\n",
    "    #methods[r\"12 Edge Add/Del\"] = RandomEdgeAddDelAnonymizer(m = int(12/100*G.number_of_edges()))\n",
    "    methods[r\"8 Edge Add/Del\"] = RandomEdgeAddDelAnonymizer(m = int(8/100*G.number_of_edges()))\n",
    "    #methods[r\"4 Edge Add/Del\"] = RandomEdgeAddDelAnonymizer(m = int(4/100*G.number_of_edges()))\n",
    "    methods[r\"2 Edge Add/Del\"] = RandomEdgeAddDelAnonymizer(m = int(2/100*G.number_of_edges()))\n",
    "    #methods[r\"1 Edge Add/Del\"] = RandomEdgeAddDelAnonymizer(m = int(1/100*G.number_of_edges()))\n",
    "    #methods[r\"0.5 Edge Add/Del\"] = RandomEdgeAddDelAnonymizer(m = int(0.5/100*G.number_of_edges()))\n",
    "\n",
    "    #methods[r\"128 Degree Anonymity\"] = KDegreeAnonymizer(k=64)\n",
    "    methods[r\"64 Degree Anonymity\"] = KDegreeAnonymizer(k=64)\n",
    "    methods[r\"32 Degree Anonymity\"] = KDegreeAnonymizer(k=32)\n",
    "    methods[r\"16 Degree Anonymity\"] = KDegreeAnonymizer(k=16)\n",
    "    #methods[r\"6 Degree Anonymity\"] = KDegreeAnonymizer(k=6)\n",
    "    methods[r\"8 Degree Anonymity\"] = KDegreeAnonymizer(k=8)\n",
    "    #methods[r\"3-Degree Anonymity\"] = KDegreeAnonymizer(k=3)\n",
    "    #methods[r\"2-Degree Anonymity\"] = KDegreeAnonymizer(k=2)\n",
    "\n",
    "\n",
    "    evaluator = Evaluator(metrics)\n",
    "\n",
    "    data = {}\n",
    "\n",
    "    for method_name, method in methods.items():\n",
    "        print(f\"Anonymizing with method {method_name}\")\n",
    "        Ga = method.anonymize(G, random_seed=seed)\n",
    "        print(f\"Evaluating method {method_name}\")\n",
    "        data[method_name] = evaluator.evaluate(G, Ga)\n",
    "\n",
    "    enron_samples_data.append(data)\n",
    "\n",
    "os.makedirs('cache', exist_ok=True)\n",
    "with open('cache/exp3_figure_enron_samples_data.pkl', 'wb') as f:\n",
    "    pickle.dump(enron_samples_data, f)"
   ]
  },
  {
   "cell_type": "code",
   "execution_count": null,
   "metadata": {},
   "outputs": [],
   "source": [
    "import seaborn as sns\n",
    "import matplotlib.pyplot as plt\n",
    "import pickle\n",
    "import seaborn as sns\n",
    "import matplotlib.pyplot as plt\n",
    "import pandas as pd\n",
    "import matplotlib.pyplot as plt\n",
    "import matplotlib.ticker as mticker\n",
    "\n",
    "def append_rows(samples, graph_name, method_names):\n",
    "    for entry in samples:\n",
    "        for method_name, metrics in entry.items():\n",
    "\n",
    "            new_row = {\"full_method_name\": method_name, \"G\":graph_name}\n",
    "\n",
    "            for name in method_names:\n",
    "                if name in method_name:\n",
    "                    new_row[\"method_type\"] = name\n",
    "\n",
    "            for metric, value in metrics.items():\n",
    "                if isinstance(value, dict):\n",
    "                    new_row[metric] = value['Ga']\n",
    "                else:\n",
    "                    new_row[metric] = value\n",
    "\n",
    "            flat_rows.append(new_row)\n",
    "\n",
    "def append_origin_rows(flat_rows, graph_name):\n",
    "    flat_rows.append({\"Katz\": 0, \"Ev.\":0, \"LCC\":0, \"EJacc\":1, \"method_type\": \"Eager\", \"G\": graph_name, \"full_method_name\":\"None\"})\n",
    "    flat_rows.append({\"Katz\": 0, \"Ev.\":0, \"LCC\":0, \"EJacc\":1, \"method_type\": \"Anonymity\", \"G\":graph_name, \"full_method_name\":\"None\"})\n",
    "    flat_rows.append({\"Katz\": 0, \"Ev.\":0, \"LCC\":0, \"EJacc\":1, \"method_type\": \"Edge Add/Del\", \"G\":graph_name, \"full_method_name\":\"None\"})\n",
    "\n",
    "\n",
    "with open('cache/exp3_figure_enron_samples_data.pkl', 'rb') as f:\n",
    "    enron_samples_data = pickle.load(f)\n",
    "\n",
    "with open('cache/exp3_figure_ca_GRQC_samples_data.pkl', 'rb') as f:\n",
    "    ca_GrQc_samples_data = pickle.load(f)\n",
    "\n",
    "with open('cache/exp3_figure_polbooks_samples_data.pkl', 'rb') as f:\n",
    "    polbooks_samples_data = pickle.load(f)\n",
    "\n",
    "flat_rows = []\n",
    "append_rows(polbooks_samples_data, \"Polbooks\", method_names = [\"Eager\", \"Anonymity\", \"Edge Add/Del\"])\n",
    "append_rows(ca_GrQc_samples_data, \"ca-GrQc\", method_names = [\"Eager\", \"Anonymity\", \"Edge Add/Del\"])\n",
    "append_rows(enron_samples_data, \"Enron\", method_names = [\"Eager\", \"Anonymity\", \"Edge Add/Del\"])\n",
    "append_origin_rows(flat_rows, \"Enron\")\n",
    "append_origin_rows(flat_rows, \"ca-GrQc\")\n",
    "append_origin_rows(flat_rows, \"Polbooks\")\n",
    "\n",
    "df = pd.DataFrame(flat_rows)\n",
    "df['EJacc'] = df.groupby(['G', 'full_method_name'])['EJacc'].transform('mean')\n",
    "\n",
    "df_melted = df.melt(id_vars=['EJacc', 'method_type', 'G'],\n",
    "                    value_vars=['Katz', 'LCC', 'Ev.'],\n",
    "                    var_name='Metric',\n",
    "                    value_name='1-Wasserstein Distance')\n",
    "\n",
    "df_melted['method_type'] = df_melted['method_type'].replace('Anonymity', 'k-Degree Anonymity')\n",
    "df_melted['method_type'] = df_melted['method_type'].replace('Eager', 'Our Technique')\n",
    "\n",
    "sns.set_theme(style=\"whitegrid\", context='paper', palette='pastel', font_scale=2.25)\n",
    "\n",
    "g = sns.FacetGrid(df_melted, row=\"G\", col=\"Metric\", hue='method_type', sharey=False, height=4, aspect=1.15, margin_titles=True, despine=True)\n",
    "\n",
    "g.map(sns.lineplot, \"EJacc\", \"1-Wasserstein Distance\", linewidth = 3, alpha = 1, err_kws={\"alpha\":0.2}, errorbar=('ci', 95))\n",
    "g.map(sns.lineplot, \"EJacc\", \"1-Wasserstein Distance\", marker=\"o\", markersize=8, alpha=0.8, linewidth = 0, err_kws={\"alpha\":0})\n",
    "\n",
    "g.set_axis_labels(\"$J(E,E')$\", \"1-Wasserstein Distance\")\n",
    "g.set_titles(col_template=\"{col_name}\")\n",
    "g.add_legend(title='Technique', loc= 'upper center', bbox_to_anchor=(0.8, 1.07), ncol=3,frameon=True)\n",
    "plt.tight_layout()\n",
    "\n",
    "for ax in g.axes.flatten():\n",
    "    ax.yaxis.set_major_formatter(mticker.ScalarFormatter(useMathText=True))\n",
    "    ax.ticklabel_format(style='sci', axis='y', scilimits=(0, 0))\n",
    "\n",
    "plt.savefig(\"Experiment_2_plot.pdf\", bbox_inches=\"tight\")\n",
    "plt.show()\n"
   ]
  },
  {
   "cell_type": "code",
   "execution_count": null,
   "metadata": {},
   "outputs": [
    {
     "data": {
      "image/png": "[encoded data removed]",
      "text/plain": [
       "<Figure size 1586.38x900 with 4 Axes>"
      ]
     },
     "metadata": {},
     "output_type": "display_data"
    }
   ],
   "source": [
    "import seaborn as sns\n",
    "import matplotlib.pyplot as plt\n",
    "import pickle\n",
    "import seaborn as sns\n",
    "import matplotlib.pyplot as plt\n",
    "import pandas as pd\n",
    "import matplotlib.pyplot as plt\n",
    "import matplotlib.ticker as mticker\n",
    "\n",
    "def append_rows(samples, graph_name, method_names):\n",
    "    for entry in samples:\n",
    "        for method_name, metrics in entry.items():\n",
    "\n",
    "            new_row = {\"full_method_name\": method_name, \"G\":graph_name}\n",
    "\n",
    "            for name in method_names:\n",
    "                if name in method_name:\n",
    "                    new_row[\"method_type\"] = name\n",
    "\n",
    "            for metric, value in metrics.items():\n",
    "                if isinstance(value, dict):\n",
    "                    new_row[metric] = value['Ga']\n",
    "                else:\n",
    "                    new_row[metric] = value\n",
    "\n",
    "            flat_rows.append(new_row)\n",
    "\n",
    "def append_origin_rows(flat_rows, graph_name):\n",
    "    flat_rows.append({\"Katz\": 0, \"Ev.\":0, \"LCC\":0, \"EJacc\":1, \"method_type\": \"Eager\", \"G\": graph_name, \"full_method_name\":\"None\"})\n",
    "    flat_rows.append({\"Katz\": 0, \"Ev.\":0, \"LCC\":0, \"EJacc\":1, \"method_type\": \"Anonymity\", \"G\":graph_name, \"full_method_name\":\"None\"})\n",
    "    flat_rows.append({\"Katz\": 0, \"Ev.\":0, \"LCC\":0, \"EJacc\":1, \"method_type\": \"Edge Add/Del\", \"G\":graph_name, \"full_method_name\":\"None\"})\n",
    "\n",
    "\n",
    "with open('cache/exp3_figure_enron_samples_data.pkl', 'rb') as f:\n",
    "    enron_samples_data = pickle.load(f)\n",
    "\n",
    "with open('cache/exp3_figure_ca_GRQC_samples_data.pkl', 'rb') as f:\n",
    "    ca_GrQc_samples_data = pickle.load(f)\n",
    "\n",
    "with open('cache/exp3_figure_polbooks_samples_data.pkl', 'rb') as f:\n",
    "    polbooks_samples_data = pickle.load(f)\n",
    "\n",
    "flat_rows = []\n",
    "#append_rows(polbooks_samples_data, \"Polbooks\", method_names = [\"Eager\", \"Anonymity\", \"Edge Add/Del\"])\n",
    "append_rows(ca_GrQc_samples_data, \"ca-GrQc\", method_names = [\"Eager\", \"Anonymity\", \"Edge Add/Del\"])\n",
    "append_rows(enron_samples_data, \"Enron\", method_names = [\"Eager\", \"Anonymity\", \"Edge Add/Del\"])\n",
    "append_origin_rows(flat_rows, \"Enron\")\n",
    "append_origin_rows(flat_rows, \"ca-GrQc\")\n",
    "#append_origin_rows(flat_rows, \"Polbooks\")\n",
    "\n",
    "df = pd.DataFrame(flat_rows)\n",
    "df['EJacc'] = df.groupby(['G', 'full_method_name'])['EJacc'].transform('mean')\n",
    "\n",
    "df_melted = df.melt(id_vars=['EJacc', 'method_type', 'G'],\n",
    "                    value_vars=['Katz', 'Ev.'],\n",
    "                    var_name='Metric',\n",
    "                    value_name='1-Wasserstein Distance')\n",
    "\n",
    "df_melted['method_type'] = df_melted['method_type'].replace('Anonymity', 'k-Degree Anonymity')\n",
    "df_melted['method_type'] = df_melted['method_type'].replace('Eager', 'Our (Katz-based loss)')\n",
    "\n",
    "sns.set_theme(style=\"whitegrid\", context='paper', palette='pastel', font_scale=2.25,rc={\"axes.facecolor\": (250/255, 250/255, 250/255)})\n",
    "\n",
    "factor = 0.9\n",
    "height = 5 * factor\n",
    "width = 3 * factor\n",
    "g = sns.FacetGrid(df_melted, row=\"G\", col=\"Metric\", hue='method_type', sharey=False, height=height, aspect=width/height, margin_titles=True, despine=True)\n",
    "g.figure.patch.set_facecolor((250/255, 250/255, 250/255))\n",
    "\n",
    "g.map(sns.lineplot, \"EJacc\", \"1-Wasserstein Distance\", linewidth = 3, alpha = 1, err_kws={\"alpha\":0.2}, errorbar=('ci', 95))\n",
    "g.map(sns.lineplot, \"EJacc\", \"1-Wasserstein Distance\", marker=\"o\", markersize=8, alpha=0.8, linewidth = 0, err_kws={\"alpha\":0})\n",
    "\n",
    "g.set_axis_labels(\"$J(E,E')$\", \"1-Wasserstein Distance\")\n",
    "g.set_titles(col_template=\"{col_name}\")\n",
    "g.add_legend(title='Technique', loc= 'upper center', bbox_to_anchor=(0.69, 1.1), ncol=3,frameon=True)\n",
    "plt.tight_layout()\n",
    "\n",
    "for ax in g.axes.flatten():\n",
    "    ax.yaxis.set_major_formatter(mticker.ScalarFormatter(useMathText=True))\n",
    "    ax.ticklabel_format(style='sci', axis='y', scilimits=(0, 0))\n",
    "\n",
    "plt.savefig(\"Experiment_2_plot_slides.pdf\", bbox_inches=\"tight\")\n",
    "plt.show()\n"
   ]
  }
 ],
 "metadata": {
  "kernelspec": {
   "display_name": "venv",
   "language": "python",
   "name": "python3"
  },
  "language_info": {
   "codemirror_mode": {
    "name": "ipython",
    "version": 3
   },
   "file_extension": ".py",
   "mimetype": "text/x-python",
   "name": "python",
   "nbconvert_exporter": "python",
   "pygments_lexer": "ipython3",
   "version": "3.12.6"
  }
 },
 "nbformat": 4,
 "nbformat_minor": 2
}
